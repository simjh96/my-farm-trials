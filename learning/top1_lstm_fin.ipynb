{
  "cells": [
    {
      "cell_type": "code",
      "execution_count": 1,
      "metadata": {
        "id": "BXTpyjqPW3jK"
      },
      "outputs": [],
      "source": [
        "# 2022.01.03/ tf: 2.7.0, cuda: 11.2, cudnn: 11.x match\n",
        "import tensorflow as tf\n",
        "import pandas as pd\n",
        "import numpy as np\n",
        "import seaborn as sns\n",
        "from pylab import rcParams\n",
        "import matplotlib.pyplot as plt\n",
        "from matplotlib import rc\n",
        "import os\n",
        "import math\n",
        "\n",
        "from keras.models import Sequential\n",
        "from keras.layers import Dense, LSTM, Dropout\n",
        "from sklearn.preprocessing import MinMaxScaler\n",
        "from sklearn.metrics import mean_squared_error"
      ]
    },
    {
      "cell_type": "code",
      "execution_count": 2,
      "metadata": {},
      "outputs": [],
      "source": [
        "physical_devices = tf.config.list_physical_devices('GPU')\n",
        "tf.config.experimental.set_memory_growth(physical_devices[0], enable=True)"
      ]
    },
    {
      "cell_type": "code",
      "execution_count": 3,
      "metadata": {},
      "outputs": [
        {
          "data": {
            "text/plain": [
              "'c:\\\\Users\\\\simjh96\\\\myFarm\\\\learning'"
            ]
          },
          "execution_count": 3,
          "metadata": {},
          "output_type": "execute_result"
        }
      ],
      "source": [
        "os.getcwd()"
      ]
    },
    {
      "cell_type": "code",
      "execution_count": 4,
      "metadata": {
        "id": "zwIimoBgXBKL"
      },
      "outputs": [],
      "source": [
        "def create_dataset(dataset, look_back=1):\n",
        "    dataX, dataY = [], []\n",
        "    \n",
        "    for i in range(len(dataset) - look_back - 1):\n",
        "        a = dataset[i:(i + look_back),:]\n",
        "        dataX.append(a)\n",
        "        dataY.append(dataset[i + look_back, 0])\n",
        "    return np.array(dataX), np.array(dataY)\n",
        "\n",
        "    \n",
        "df = pd.read_csv(r'../data/top1.csv')\n",
        "df = df.set_index('saleDate')\n",
        "top1_arr = df.to_numpy()\n",
        "\n",
        "# fix random seed for reproducibility\n",
        "np.random.seed(1)\n",
        "\n",
        "# normalize the dataset\n",
        "scaler = MinMaxScaler(feature_range=(0, 1))\n",
        "dataset = scaler.fit_transform(top1_arr.reshape([-1,1]))\n",
        "\n",
        "# split into train and test sets\n",
        "train_size = int(len(dataset) * 0.67) \n",
        "test_size = len(dataset) - train_size\n",
        "train, test = dataset[0:train_size, :], dataset[train_size:len(dataset), :]\n",
        "\n",
        "# reshape into X=t and Y=t+1\n",
        "look_back = 28\n",
        "trainX, trainY = create_dataset(train, look_back)  \n",
        "testX, testY = create_dataset(test, look_back)\n",
        "\n",
        "# reshape input to be  [samples, time steps, features]\n",
        "trainX = np.reshape(trainX, (trainX.shape[0], look_back, 1))\n",
        "testX = np.reshape(testX, (testX.shape[0],look_back, 1))"
      ]
    },
    {
      "cell_type": "code",
      "execution_count": null,
      "metadata": {},
      "outputs": [],
      "source": [
        "from keras import backend as K\n",
        "K.clear_session()"
      ]
    },
    {
      "cell_type": "code",
      "execution_count": 6,
      "metadata": {
        "colab": {
          "base_uri": "https://localhost:8080/",
          "height": 1000
        },
        "id": "Qbp_X_ALXB6D",
        "outputId": "f91a2956-6916-4918-a8ee-8e8c0c9a1464"
      },
      "outputs": [
        {
          "name": "stdout",
          "output_type": "stream",
          "text": [
            "Epoch 1/20\n",
            "17/17 [==============================] - 2s 98ms/step - loss: 0.0210 - val_loss: 0.0042\n",
            "Epoch 2/20\n",
            "17/17 [==============================] - 1s 76ms/step - loss: 0.0067 - val_loss: 0.0061\n",
            "Epoch 3/20\n",
            "17/17 [==============================] - 1s 80ms/step - loss: 0.0056 - val_loss: 0.0038\n",
            "Epoch 4/20\n",
            "17/17 [==============================] - 1s 79ms/step - loss: 0.0049 - val_loss: 0.0035\n",
            "Epoch 5/20\n",
            "17/17 [==============================] - 1s 77ms/step - loss: 0.0042 - val_loss: 0.0032\n",
            "Epoch 6/20\n",
            "17/17 [==============================] - 1s 82ms/step - loss: 0.0037 - val_loss: 0.0027\n",
            "Epoch 7/20\n",
            "17/17 [==============================] - 1s 78ms/step - loss: 0.0032 - val_loss: 0.0025\n",
            "Epoch 8/20\n",
            "17/17 [==============================] - 1s 80ms/step - loss: 0.0030 - val_loss: 0.0023\n",
            "Epoch 9/20\n",
            "17/17 [==============================] - 2s 101ms/step - loss: 0.0028 - val_loss: 0.0022\n",
            "Epoch 10/20\n",
            "17/17 [==============================] - 2s 110ms/step - loss: 0.0027 - val_loss: 0.0021\n",
            "Epoch 11/20\n",
            "17/17 [==============================] - 2s 98ms/step - loss: 0.0026 - val_loss: 0.0021\n",
            "Epoch 12/20\n",
            "17/17 [==============================] - 1s 83ms/step - loss: 0.0026 - val_loss: 0.0020\n",
            "Epoch 13/20\n",
            "17/17 [==============================] - 1s 82ms/step - loss: 0.0026 - val_loss: 0.0020\n",
            "Epoch 14/20\n",
            "17/17 [==============================] - 2s 93ms/step - loss: 0.0025 - val_loss: 0.0020\n",
            "Epoch 15/20\n",
            "17/17 [==============================] - 1s 81ms/step - loss: 0.0025 - val_loss: 0.0020\n",
            "Epoch 16/20\n",
            "17/17 [==============================] - 2s 107ms/step - loss: 0.0025 - val_loss: 0.0019\n",
            "Epoch 17/20\n",
            "17/17 [==============================] - 2s 115ms/step - loss: 0.0025 - val_loss: 0.0019\n",
            "Epoch 18/20\n",
            "17/17 [==============================] - 2s 90ms/step - loss: 0.0024 - val_loss: 0.0019\n",
            "Epoch 19/20\n",
            "17/17 [==============================] - 2s 94ms/step - loss: 0.0024 - val_loss: 0.0019\n",
            "Epoch 20/20\n",
            "17/17 [==============================] - 2s 110ms/step - loss: 0.0024 - val_loss: 0.0018\n"
          ]
        },
        {
          "data": {
            "image/png": "[encoded data removed]",
            "text/plain": [
              "<Figure size 432x288 with 1 Axes>"
            ]
          },
          "metadata": {
            "needs_background": "light"
          },
          "output_type": "display_data"
        }
      ],
      "source": [
        "# create and fit the LSTM network\n",
        "\n",
        "model = Sequential()\n",
        "model.add(LSTM(4, input_shape=(look_back,1)))\n",
        "model.add(Dense(1))\n",
        "model.compile(loss='mean_squared_error', optimizer='adam')\n",
        "history= model.fit(trainX, trainY,validation_split=0.33, epochs=20, batch_size=32)\n",
        "\n",
        "# Plot training\n",
        "plt.plot(history.history['loss'])\n",
        "plt.plot(history.history['val_loss'])\n",
        "plt.title('model loss')\n",
        "plt.show()"
      ]
    },
    {
      "cell_type": "code",
      "execution_count": 8,
      "metadata": {},
      "outputs": [],
      "source": [
        "# make predictions\n",
        "trainPredict = model.predict(trainX)\n",
        "testPredict = model.predict(testX)\n",
        "\n",
        "# inverse transform has to match dimention for fit(input)\n",
        "# fit(1220,1) -> inverse_fit(788,1)\n",
        "# Inverse transform it and select the \n",
        "trainPredict = scaler.inverse_transform(trainPredict)[:,0]\n",
        "\n",
        "# Inverse transform it and select the \n",
        "testPredict = scaler.inverse_transform(testPredict)[:,0]   "
      ]
    },
    {
      "cell_type": "code",
      "execution_count": 12,
      "metadata": {},
      "outputs": [],
      "source": [
        "# Y is shaped (788,) need (788,1)\n",
        "trainY = scaler.inverse_transform(trainY[..., np.newaxis])[:, 0]\n",
        "testY = scaler.inverse_transform(testY[..., np.newaxis])[:, 0]"
      ]
    },
    {
      "cell_type": "code",
      "execution_count": null,
      "metadata": {},
      "outputs": [
        {
          "name": "stdout",
          "output_type": "stream",
          "text": [
            "Train Score: 152.09 RMSE\n",
            "Test Score: 241.63 RMSE\n"
          ]
        }
      ],
      "source": [
        "# calculate root mean squared error\n",
        "trainScore = math.sqrt(mean_squared_error(trainY, trainPredict))\n",
        "print('Train Score: %.2f RMSE' % (trainScore))\n",
        "testScore = math.sqrt(mean_squared_error(testY, testPredict))\n",
        "print('Test Score: %.2f RMSE' % (testScore))\n",
        "\n",
        "# shift train predictions for plotting\n",
        "trainPredictPlot = np.empty_like(dataset)\n",
        "trainPredictPlot[:, :] = np.nan\n",
        "trainPredictPlot[look_back:len(trainPredict)+look_back, 0] = trainPredict\n",
        "\n",
        "# shift test predictions for plotting\n",
        "testPredictPlot = np.empty_like(dataset)\n",
        "testPredictPlot[:, :] = np.nan\n",
        "testPredictPlot[len(trainPredict)+(look_back*2) +\n",
        "                1:len(dataset)-1, 0] = testPredict\n"
      ]
    },
    {
      "cell_type": "code",
      "execution_count": null,
      "metadata": {
        "colab": {
          "base_uri": "https://localhost:8080/",
          "height": 283
        },
        "id": "8pdvA1cyaYZV",
        "outputId": "22ed2704-5ecd-420b-84d5-15c38750cd66"
      },
      "outputs": [
        {
          "data": {
            "text/plain": [
              "[<matplotlib.lines.Line2D at 0x1abc81239d0>]"
            ]
          },
          "execution_count": 33,
          "metadata": {},
          "output_type": "execute_result"
        },
        {
          "data": {
            "image/png": "[encoded data removed]",
            "text/plain": [
              "<Figure size 432x288 with 1 Axes>"
            ]
          },
          "metadata": {
            "needs_background": "light"
          },
          "output_type": "display_data"
        }
      ],
      "source": [
        "plt.plot(scaler.inverse_transform(dataset)[:,0])  \n",
        "plt.plot(trainPredictPlot[:,0],linestyle='--')\n",
        "plt.plot(testPredictPlot[:,0],linestyle='--')"
      ]
    },
    {
      "cell_type": "code",
      "execution_count": null,
      "metadata": {
        "id": "am_RWgQtaYH-"
      },
      "outputs": [],
      "source": []
    }
  ],
  "metadata": {
    "colab": {
      "name": "Untitled0.ipynb",
      "provenance": []
    },
    "kernelspec": {
      "display_name": "Python 3",
      "name": "python3"
    },
    "language_info": {
      "codemirror_mode": {
        "name": "ipython",
        "version": 3
      },
      "file_extension": ".py",
      "mimetype": "text/x-python",
      "name": "python",
      "nbconvert_exporter": "python",
      "pygments_lexer": "ipython3",
      "version": "3.9.1"
    }
  },
  "nbformat": 4,
  "nbformat_minor": 0
}
